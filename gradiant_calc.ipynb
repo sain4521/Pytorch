{
 "cells": [
  {
   "cell_type": "markdown",
   "metadata": {},
   "source": [
    "Auto gradiant calc:"
   ]
  },
  {
   "cell_type": "markdown",
   "metadata": {},
   "source": [
    "Uses Autograd package"
   ]
  },
  {
   "cell_type": "code",
   "execution_count": 3,
   "metadata": {},
   "outputs": [
    {
     "name": "stdout",
     "output_type": "stream",
     "text": [
      "tensor([-1.4505,  0.2830, -1.3287], requires_grad=True)\n",
      "tensor([0.5495, 2.2830, 0.6713], grad_fn=<AddBackward0>)\n",
      "tensor([ 0.6039, 10.4241,  0.9014], grad_fn=<MulBackward0>)\n",
      "tensor([2.1981e-02, 9.1320e+00, 2.6853e-03])\n"
     ]
    }
   ],
   "source": [
    "import torch\n",
    "\n",
    "x= torch.randn(3, requires_grad= True)\n",
    "print (x)\n",
    "\n",
    "y= x+2\n",
    "print(y) #AddBackward0\n",
    "z =y*y*2 #MulBackward\n",
    "#z=z.mean() #MeanBackward\n",
    "print(z)\n",
    "v = torch.tensor([.01,1.0,0.001], dtype=torch.float32)\n",
    "z.backward(v) #dz/dx\n",
    "print(x.grad)"
   ]
  },
  {
   "cell_type": "markdown",
   "metadata": {},
   "source": [
    "Preventing Grad history:"
   ]
  },
  {
   "cell_type": "code",
   "execution_count": null,
   "metadata": {},
   "outputs": [
    {
     "name": "stdout",
     "output_type": "stream",
     "text": [
      "tensor([-1.1459, -0.7533, -1.1162], requires_grad=True)\n",
      "tensor([-1.1459, -0.7533, -1.1162])\n",
      "tensor([-1.1459, -0.7533, -1.1162])\n",
      "tensor([-1.1459, -0.7533, -1.1162])\n"
     ]
    }
   ],
   "source": [
    "import torch\n",
    "\n",
    "x= torch.randn(3, requires_grad= True)\n",
    "print (x)\n",
    "\n",
    "# methods used to prevent grad history:\n",
    "#x.requires_grad_(False)\n",
    "#x.detach()\n",
    "#with torch.no_grad()\n",
    "\n",
    "x.requires_grad_(False) #x.requires_grad_(False) method\n",
    "\n",
    "print(x)\n",
    "\n",
    "y= x.detach() #x.detach() method\n",
    "\n",
    "print(y)\n",
    "\n",
    "with torch.no_grad(): #with torch.no_grad() method\n",
    "    y = x \n",
    "    print (y)\n",
    "\n",
    "\n"
   ]
  },
  {
   "cell_type": "markdown",
   "metadata": {},
   "source": [
    "Dummy training example:"
   ]
  },
  {
   "cell_type": "code",
   "execution_count": 22,
   "metadata": {},
   "outputs": [
    {
     "name": "stdout",
     "output_type": "stream",
     "text": [
      "tensor([3., 3., 3., 3.])\n",
      "tensor([3., 3., 3., 3.])\n",
      "tensor([3., 3., 3., 3.])\n"
     ]
    }
   ],
   "source": [
    "import torch\n",
    "\n",
    "weights = torch.ones(4, requires_grad= True)\n",
    "\n",
    "for epoch in range(3):\n",
    "    model_output = (weights*3).sum()\n",
    "    \n",
    "    model_output.backward()\n",
    "    \n",
    "    print(weights.grad)\n",
    "    \n",
    "    weights.grad.zero_()"
   ]
  },
  {
   "cell_type": "markdown",
   "metadata": {},
   "source": [
    "Optimization example : "
   ]
  },
  {
   "cell_type": "code",
   "execution_count": null,
   "metadata": {},
   "outputs": [],
   "source": [
    "import torch\n",
    "\n",
    "weights = torch.ones(4, requires_grad= True)\n",
    "\n",
    "optimizer =torch.optim.SGD(weights, lr=0.01)\n",
    "\n",
    "optimizer.step()\n",
    "optimizer.zero_grad()"
   ]
  }
 ],
 "metadata": {
  "kernelspec": {
   "display_name": "ML",
   "language": "python",
   "name": "python3"
  },
  "language_info": {
   "codemirror_mode": {
    "name": "ipython",
    "version": 3
   },
   "file_extension": ".py",
   "mimetype": "text/x-python",
   "name": "python",
   "nbconvert_exporter": "python",
   "pygments_lexer": "ipython3",
   "version": "3.9.21"
  }
 },
 "nbformat": 4,
 "nbformat_minor": 2
}
