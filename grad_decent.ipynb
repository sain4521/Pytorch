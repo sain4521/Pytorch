{
 "cells": [
  {
   "cell_type": "markdown",
   "metadata": {},
   "source": [
    "Gradiant Decent with Autograd and Backpropagation:\n"
   ]
  },
  {
   "cell_type": "markdown",
   "metadata": {},
   "source": [
    "Numerical Computation :"
   ]
  },
  {
   "cell_type": "code",
   "execution_count": 2,
   "metadata": {},
   "outputs": [
    {
     "name": "stdout",
     "output_type": "stream",
     "text": [
      "Prediction before training: f(5) = 0.000\n",
      "eppch 1: w = 1.200, loss =30.00000000\n",
      "eppch 3: w = 1.872, loss =0.76800019\n",
      "eppch 5: w = 1.980, loss =0.01966083\n",
      "eppch 7: w = 1.997, loss =0.00050332\n",
      "eppch 9: w = 1.999, loss =0.00001288\n",
      "eppch 11: w = 2.000, loss =0.00000033\n",
      "eppch 13: w = 2.000, loss =0.00000001\n",
      "eppch 15: w = 2.000, loss =0.00000000\n",
      "eppch 17: w = 2.000, loss =0.00000000\n",
      "eppch 19: w = 2.000, loss =0.00000000\n",
      "Prediction after training: f(5) = 10.000\n"
     ]
    }
   ],
   "source": [
    "import numpy as np\n",
    "\n",
    "\n",
    "#f = w * x\n",
    "\n",
    "#f = 2 * x\n",
    "\n",
    "X = np.array([1, 2, 3, 4], dtype=np.float32)\n",
    "Y = np.array([2, 4, 6, 8], dtype=np.float32)\n",
    "\n",
    "w = 0.0\n",
    "\n",
    "#model prediction \n",
    "\n",
    "def forward(x):\n",
    "    return w * x\n",
    "\n",
    "#loss\n",
    "def loss(y, y_predicted):\n",
    "    return ((y_predicted - y)**2).mean()\n",
    "\n",
    "#gradiant\n",
    "# MSE = 1/N *(wx-y)**2\n",
    "#dJ/dw =1/N 2x(w*x-y)\n",
    "\n",
    "def gradient(x,y,y_predicted):\n",
    "    return np.dot(2*x, y_predicted-y).mean()\n",
    "\n",
    "print(f'Prediction before training: f(5) = {forward(5):.3f}')\n",
    "\n",
    "#Training\n",
    "\n",
    "learning_rate = 0.01\n",
    "n_iters = 20\n",
    "\n",
    "\n",
    "for epoch in range(n_iters):\n",
    "    #prediction = forwardpass\n",
    "    y_pred = forward(X)\n",
    "    \n",
    "    #loss\n",
    "    l=loss(Y,y_pred)\n",
    "    \n",
    "    #gradients\n",
    "    dw = gradient(X,Y,y_pred)\n",
    "    \n",
    "    #update weight\n",
    "    \n",
    "    w -= learning_rate* dw\n",
    "    \n",
    "    if epoch % 2 == 0:\n",
    "        print(f'eppch {epoch+1}: w = {w:.3f}, loss ={l:.8f}')\n",
    "\n",
    "\n",
    "print(f'Prediction after training: f(5) = {forward(5):.3f}')\n",
    "    \n",
    "\n"
   ]
  },
  {
   "cell_type": "markdown",
   "metadata": {},
   "source": [
    "Backpropagation:"
   ]
  },
  {
   "cell_type": "code",
   "execution_count": 6,
   "metadata": {},
   "outputs": [
    {
     "name": "stdout",
     "output_type": "stream",
     "text": [
      "Prediction before training: f(5) = 0.000\n",
      "eppch 1: w = 0.300, loss =30.00000000\n",
      "eppch 11: w = 1.665, loss =1.16278565\n",
      "eppch 21: w = 1.934, loss =0.04506890\n",
      "eppch 31: w = 1.987, loss =0.00174685\n",
      "eppch 41: w = 1.997, loss =0.00006770\n",
      "eppch 51: w = 1.999, loss =0.00000262\n",
      "eppch 61: w = 2.000, loss =0.00000010\n",
      "eppch 71: w = 2.000, loss =0.00000000\n",
      "eppch 81: w = 2.000, loss =0.00000000\n",
      "eppch 91: w = 2.000, loss =0.00000000\n",
      "Prediction after training: f(5) = 10.000\n"
     ]
    }
   ],
   "source": [
    "import torch\n",
    "\n",
    "\n",
    "#f = w * x\n",
    "\n",
    "#f = 2 * x\n",
    "\n",
    "X = torch.tensor([1, 2, 3, 4], dtype=torch.float32)\n",
    "Y = torch.tensor([2, 4, 6, 8], dtype=torch.float32)\n",
    "\n",
    "w = torch.tensor(0.0, dtype= torch.float32, requires_grad=True)\n",
    "\n",
    "#model prediction \n",
    "\n",
    "def forward(x):\n",
    "    return w * x\n",
    "\n",
    "#loss\n",
    "def loss(y, y_predicted):\n",
    "    return ((y_predicted - y)**2).mean()\n",
    "\n",
    "#gradiant\n",
    "# MSE = 1/N *(wx-y)**2\n",
    "#dJ/dw =1/N 2x(w*x-y)\n",
    "\n",
    "def gradient(x,y,y_predicted):\n",
    "    return np.dot(2*x, y_predicted-y).mean()\n",
    "\n",
    "print(f'Prediction before training: f(5) = {forward(5):.3f}')\n",
    "\n",
    "#Training\n",
    "\n",
    "learning_rate = 0.01\n",
    "n_iters = 100\n",
    "\n",
    "\n",
    "for epoch in range(n_iters):\n",
    "    #prediction = forwardpass\n",
    "    y_pred = forward(X)\n",
    "    \n",
    "    #loss\n",
    "    l=loss(Y,y_pred)\n",
    "    \n",
    "    #gradients = backpass\n",
    "    l.backward() # dl/dw\n",
    "    \n",
    "    #update weight\n",
    "    with torch.no_grad():\n",
    "        w -= learning_rate* w.grad\n",
    "        \n",
    "    #emply gradient\n",
    "    w.grad.zero_()\n",
    "    \n",
    "    if epoch % 10 == 0:\n",
    "        print(f'eppch {epoch+1}: w = {w:.3f}, loss ={l:.8f}')\n",
    "\n",
    "\n",
    "print(f'Prediction after training: f(5) = {forward(5):.3f}')\n",
    "    \n"
   ]
  }
 ],
 "metadata": {
  "kernelspec": {
   "display_name": "ML",
   "language": "python",
   "name": "python3"
  },
  "language_info": {
   "codemirror_mode": {
    "name": "ipython",
    "version": 3
   },
   "file_extension": ".py",
   "mimetype": "text/x-python",
   "name": "python",
   "nbconvert_exporter": "python",
   "pygments_lexer": "ipython3",
   "version": "3.9.21"
  }
 },
 "nbformat": 4,
 "nbformat_minor": 2
}
